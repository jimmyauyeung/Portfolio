{
 "cells": [
  {
   "cell_type": "markdown",
   "id": "f1de1cc0",
   "metadata": {},
   "source": [
    "# Bitter PO's by State 2021 Q3 to 2022 Q4"
   ]
  },
  {
   "cell_type": "code",
   "execution_count": 1,
   "id": "34878baf",
   "metadata": {},
   "outputs": [],
   "source": [
    "import pandas as pd\n",
    "import numpy as np\n",
    "\n",
    "import matplotlib.pyplot as plt\n",
    "import seaborn as sns\n",
    "\n",
    "%matplotlib inline "
   ]
  },
  {
   "cell_type": "code",
   "execution_count": 2,
   "id": "16e18a16",
   "metadata": {},
   "outputs": [],
   "source": [
    "df = pd.read_csv('bitter_po_2021Q3-2022Q3 - sheet 1.csv')\n",
    "df.fillna(0, inplace=True)"
   ]
  },
  {
   "cell_type": "code",
   "execution_count": 3,
   "id": "451eb907",
   "metadata": {},
   "outputs": [
    {
     "data": {
      "text/html": [
       "<div>\n",
       "<style scoped>\n",
       "    .dataframe tbody tr th:only-of-type {\n",
       "        vertical-align: middle;\n",
       "    }\n",
       "\n",
       "    .dataframe tbody tr th {\n",
       "        vertical-align: top;\n",
       "    }\n",
       "\n",
       "    .dataframe thead th {\n",
       "        text-align: right;\n",
       "    }\n",
       "</style>\n",
       "<table border=\"1\" class=\"dataframe\">\n",
       "  <thead>\n",
       "    <tr style=\"text-align: right;\">\n",
       "      <th></th>\n",
       "      <th>po date</th>\n",
       "      <th>customer</th>\n",
       "      <th>STUSPS</th>\n",
       "      <th>po number</th>\n",
       "      <th>total cases</th>\n",
       "      <th>aromatic bourbon</th>\n",
       "      <th>cardamom</th>\n",
       "      <th>cassia</th>\n",
       "      <th>clove</th>\n",
       "      <th>ginger</th>\n",
       "      <th>lemon pepper</th>\n",
       "      <th>sassafras</th>\n",
       "      <th>szechuan</th>\n",
       "      <th>tres amigos</th>\n",
       "      <th>gracia mole</th>\n",
       "      <th>tropical tiki</th>\n",
       "    </tr>\n",
       "  </thead>\n",
       "  <tbody>\n",
       "    <tr>\n",
       "      <th>0</th>\n",
       "      <td>7/6/2021</td>\n",
       "      <td>Aleph (SC)</td>\n",
       "      <td>SC</td>\n",
       "      <td>6302103</td>\n",
       "      <td>19</td>\n",
       "      <td>2.0</td>\n",
       "      <td>0.0</td>\n",
       "      <td>3.0</td>\n",
       "      <td>1.0</td>\n",
       "      <td>1.0</td>\n",
       "      <td>1.0</td>\n",
       "      <td>3.0</td>\n",
       "      <td>2.0</td>\n",
       "      <td>0.0</td>\n",
       "      <td>4.0</td>\n",
       "      <td>2.0</td>\n",
       "    </tr>\n",
       "    <tr>\n",
       "      <th>1</th>\n",
       "      <td>7/6/2021</td>\n",
       "      <td>Aleph (SC)</td>\n",
       "      <td>SC</td>\n",
       "      <td>6302103</td>\n",
       "      <td>2</td>\n",
       "      <td>0.0</td>\n",
       "      <td>0.0</td>\n",
       "      <td>0.0</td>\n",
       "      <td>0.0</td>\n",
       "      <td>0.0</td>\n",
       "      <td>0.0</td>\n",
       "      <td>0.0</td>\n",
       "      <td>0.0</td>\n",
       "      <td>2.0</td>\n",
       "      <td>0.0</td>\n",
       "      <td>0.0</td>\n",
       "    </tr>\n",
       "    <tr>\n",
       "      <th>2</th>\n",
       "      <td>7/6/2021</td>\n",
       "      <td>Johnson Bros FL (FL)</td>\n",
       "      <td>FL</td>\n",
       "      <td>TP-0049405</td>\n",
       "      <td>3</td>\n",
       "      <td>0.0</td>\n",
       "      <td>1.0</td>\n",
       "      <td>0.0</td>\n",
       "      <td>0.0</td>\n",
       "      <td>0.0</td>\n",
       "      <td>0.0</td>\n",
       "      <td>1.0</td>\n",
       "      <td>0.0</td>\n",
       "      <td>1.0</td>\n",
       "      <td>0.0</td>\n",
       "      <td>0.0</td>\n",
       "    </tr>\n",
       "    <tr>\n",
       "      <th>3</th>\n",
       "      <td>7/7/2021</td>\n",
       "      <td>Mexcor (TX)</td>\n",
       "      <td>TX</td>\n",
       "      <td>100155</td>\n",
       "      <td>110</td>\n",
       "      <td>10.0</td>\n",
       "      <td>10.0</td>\n",
       "      <td>10.0</td>\n",
       "      <td>10.0</td>\n",
       "      <td>10.0</td>\n",
       "      <td>10.0</td>\n",
       "      <td>10.0</td>\n",
       "      <td>10.0</td>\n",
       "      <td>10.0</td>\n",
       "      <td>10.0</td>\n",
       "      <td>10.0</td>\n",
       "    </tr>\n",
       "    <tr>\n",
       "      <th>4</th>\n",
       "      <td>7/8/2021</td>\n",
       "      <td>TJ Sheehan (NY)</td>\n",
       "      <td>NY</td>\n",
       "      <td>ISTJS0721B</td>\n",
       "      <td>3</td>\n",
       "      <td>3.0</td>\n",
       "      <td>0.0</td>\n",
       "      <td>0.0</td>\n",
       "      <td>0.0</td>\n",
       "      <td>0.0</td>\n",
       "      <td>0.0</td>\n",
       "      <td>0.0</td>\n",
       "      <td>0.0</td>\n",
       "      <td>0.0</td>\n",
       "      <td>0.0</td>\n",
       "      <td>0.0</td>\n",
       "    </tr>\n",
       "  </tbody>\n",
       "</table>\n",
       "</div>"
      ],
      "text/plain": [
       "    po date              customer STUSPS   po number  total cases  \\\n",
       "0  7/6/2021            Aleph (SC)     SC     6302103           19   \n",
       "1  7/6/2021            Aleph (SC)     SC     6302103            2   \n",
       "2  7/6/2021  Johnson Bros FL (FL)     FL  TP-0049405            3   \n",
       "3  7/7/2021           Mexcor (TX)     TX      100155          110   \n",
       "4  7/8/2021       TJ Sheehan (NY)     NY  ISTJS0721B            3   \n",
       "\n",
       "   aromatic bourbon  cardamom  cassia  clove  ginger  lemon pepper  sassafras  \\\n",
       "0               2.0       0.0     3.0    1.0     1.0           1.0        3.0   \n",
       "1               0.0       0.0     0.0    0.0     0.0           0.0        0.0   \n",
       "2               0.0       1.0     0.0    0.0     0.0           0.0        1.0   \n",
       "3              10.0      10.0    10.0   10.0    10.0          10.0       10.0   \n",
       "4               3.0       0.0     0.0    0.0     0.0           0.0        0.0   \n",
       "\n",
       "   szechuan  tres amigos  gracia mole  tropical tiki  \n",
       "0       2.0          0.0          4.0            2.0  \n",
       "1       0.0          2.0          0.0            0.0  \n",
       "2       0.0          1.0          0.0            0.0  \n",
       "3      10.0         10.0         10.0           10.0  \n",
       "4       0.0          0.0          0.0            0.0  "
      ]
     },
     "execution_count": 3,
     "metadata": {},
     "output_type": "execute_result"
    }
   ],
   "source": [
    "df.head()"
   ]
  },
  {
   "cell_type": "markdown",
   "id": "b9fea312",
   "metadata": {},
   "source": [
    "### Case sales grouped by state"
   ]
  },
  {
   "cell_type": "code",
   "execution_count": 4,
   "id": "de691bdb",
   "metadata": {},
   "outputs": [],
   "source": [
    "import chart_studio.plotly as py\n",
    "from plotly.offline import download_plotlyjs,init_notebook_mode,plot,iplot\n",
    "import plotly.graph_objs as go"
   ]
  },
  {
   "cell_type": "code",
   "execution_count": 5,
   "id": "8e87f538",
   "metadata": {},
   "outputs": [
    {
     "data": {
      "text/html": [
       "        <script type=\"text/javascript\">\n",
       "        window.PlotlyConfig = {MathJaxConfig: 'local'};\n",
       "        if (window.MathJax) {MathJax.Hub.Config({SVG: {font: \"STIX-Web\"}});}\n",
       "        if (typeof require !== 'undefined') {\n",
       "        require.undef(\"plotly\");\n",
       "        requirejs.config({\n",
       "            paths: {\n",
       "                'plotly': ['https://cdn.plot.ly/plotly-2.9.0.min']\n",
       "            }\n",
       "        });\n",
       "        require(['plotly'], function(Plotly) {\n",
       "            window._Plotly = Plotly;\n",
       "        });\n",
       "        }\n",
       "        </script>\n",
       "        "
      ]
     },
     "metadata": {},
     "output_type": "display_data"
    }
   ],
   "source": [
    "init_notebook_mode(connected=True)"
   ]
  },
  {
   "cell_type": "code",
   "execution_count": 6,
   "id": "31bd4587",
   "metadata": {},
   "outputs": [],
   "source": [
    "cases_by_state = df.groupby('STUSPS', as_index=False).sum()"
   ]
  },
  {
   "cell_type": "code",
   "execution_count": 7,
   "id": "5bc0d027",
   "metadata": {},
   "outputs": [
    {
     "data": {
      "text/html": [
       "<div>\n",
       "<style scoped>\n",
       "    .dataframe tbody tr th:only-of-type {\n",
       "        vertical-align: middle;\n",
       "    }\n",
       "\n",
       "    .dataframe tbody tr th {\n",
       "        vertical-align: top;\n",
       "    }\n",
       "\n",
       "    .dataframe thead th {\n",
       "        text-align: right;\n",
       "    }\n",
       "</style>\n",
       "<table border=\"1\" class=\"dataframe\">\n",
       "  <thead>\n",
       "    <tr style=\"text-align: right;\">\n",
       "      <th></th>\n",
       "      <th>STUSPS</th>\n",
       "      <th>total cases</th>\n",
       "      <th>aromatic bourbon</th>\n",
       "      <th>cardamom</th>\n",
       "      <th>cassia</th>\n",
       "      <th>clove</th>\n",
       "      <th>ginger</th>\n",
       "      <th>lemon pepper</th>\n",
       "      <th>sassafras</th>\n",
       "      <th>szechuan</th>\n",
       "      <th>tres amigos</th>\n",
       "      <th>gracia mole</th>\n",
       "      <th>tropical tiki</th>\n",
       "    </tr>\n",
       "  </thead>\n",
       "  <tbody>\n",
       "    <tr>\n",
       "      <th>0</th>\n",
       "      <td>AZ</td>\n",
       "      <td>6</td>\n",
       "      <td>0.0</td>\n",
       "      <td>0.0</td>\n",
       "      <td>0.0</td>\n",
       "      <td>0.0</td>\n",
       "      <td>0.0</td>\n",
       "      <td>0.0</td>\n",
       "      <td>0.0</td>\n",
       "      <td>0.0</td>\n",
       "      <td>6.0</td>\n",
       "      <td>0.0</td>\n",
       "      <td>0.0</td>\n",
       "    </tr>\n",
       "    <tr>\n",
       "      <th>1</th>\n",
       "      <td>CA</td>\n",
       "      <td>83</td>\n",
       "      <td>6.0</td>\n",
       "      <td>9.0</td>\n",
       "      <td>1.0</td>\n",
       "      <td>1.0</td>\n",
       "      <td>1.0</td>\n",
       "      <td>0.0</td>\n",
       "      <td>4.0</td>\n",
       "      <td>8.0</td>\n",
       "      <td>42.0</td>\n",
       "      <td>9.0</td>\n",
       "      <td>2.0</td>\n",
       "    </tr>\n",
       "    <tr>\n",
       "      <th>2</th>\n",
       "      <td>CO</td>\n",
       "      <td>63</td>\n",
       "      <td>0.0</td>\n",
       "      <td>6.0</td>\n",
       "      <td>0.0</td>\n",
       "      <td>11.0</td>\n",
       "      <td>16.0</td>\n",
       "      <td>0.0</td>\n",
       "      <td>5.0</td>\n",
       "      <td>0.0</td>\n",
       "      <td>25.0</td>\n",
       "      <td>0.0</td>\n",
       "      <td>0.0</td>\n",
       "    </tr>\n",
       "    <tr>\n",
       "      <th>3</th>\n",
       "      <td>CT</td>\n",
       "      <td>27</td>\n",
       "      <td>2.0</td>\n",
       "      <td>1.0</td>\n",
       "      <td>2.0</td>\n",
       "      <td>2.0</td>\n",
       "      <td>4.0</td>\n",
       "      <td>0.0</td>\n",
       "      <td>4.0</td>\n",
       "      <td>0.0</td>\n",
       "      <td>12.0</td>\n",
       "      <td>4.0</td>\n",
       "      <td>0.0</td>\n",
       "    </tr>\n",
       "    <tr>\n",
       "      <th>4</th>\n",
       "      <td>FL</td>\n",
       "      <td>5</td>\n",
       "      <td>0.0</td>\n",
       "      <td>1.0</td>\n",
       "      <td>0.0</td>\n",
       "      <td>0.0</td>\n",
       "      <td>0.0</td>\n",
       "      <td>0.0</td>\n",
       "      <td>1.0</td>\n",
       "      <td>2.0</td>\n",
       "      <td>1.0</td>\n",
       "      <td>0.0</td>\n",
       "      <td>0.0</td>\n",
       "    </tr>\n",
       "    <tr>\n",
       "      <th>5</th>\n",
       "      <td>GA</td>\n",
       "      <td>28</td>\n",
       "      <td>3.0</td>\n",
       "      <td>3.0</td>\n",
       "      <td>3.0</td>\n",
       "      <td>7.0</td>\n",
       "      <td>3.0</td>\n",
       "      <td>0.0</td>\n",
       "      <td>3.0</td>\n",
       "      <td>0.0</td>\n",
       "      <td>7.0</td>\n",
       "      <td>0.0</td>\n",
       "      <td>0.0</td>\n",
       "    </tr>\n",
       "    <tr>\n",
       "      <th>6</th>\n",
       "      <td>KS</td>\n",
       "      <td>10</td>\n",
       "      <td>10.0</td>\n",
       "      <td>0.0</td>\n",
       "      <td>0.0</td>\n",
       "      <td>0.0</td>\n",
       "      <td>0.0</td>\n",
       "      <td>0.0</td>\n",
       "      <td>0.0</td>\n",
       "      <td>0.0</td>\n",
       "      <td>0.0</td>\n",
       "      <td>0.0</td>\n",
       "      <td>0.0</td>\n",
       "    </tr>\n",
       "    <tr>\n",
       "      <th>7</th>\n",
       "      <td>MA</td>\n",
       "      <td>3</td>\n",
       "      <td>0.0</td>\n",
       "      <td>0.0</td>\n",
       "      <td>0.0</td>\n",
       "      <td>0.0</td>\n",
       "      <td>0.0</td>\n",
       "      <td>0.0</td>\n",
       "      <td>0.0</td>\n",
       "      <td>0.0</td>\n",
       "      <td>3.0</td>\n",
       "      <td>0.0</td>\n",
       "      <td>0.0</td>\n",
       "    </tr>\n",
       "    <tr>\n",
       "      <th>8</th>\n",
       "      <td>MD</td>\n",
       "      <td>3</td>\n",
       "      <td>0.0</td>\n",
       "      <td>0.0</td>\n",
       "      <td>1.0</td>\n",
       "      <td>0.0</td>\n",
       "      <td>0.0</td>\n",
       "      <td>0.0</td>\n",
       "      <td>1.0</td>\n",
       "      <td>0.0</td>\n",
       "      <td>1.0</td>\n",
       "      <td>0.0</td>\n",
       "      <td>0.0</td>\n",
       "    </tr>\n",
       "    <tr>\n",
       "      <th>9</th>\n",
       "      <td>MN</td>\n",
       "      <td>7</td>\n",
       "      <td>4.0</td>\n",
       "      <td>1.0</td>\n",
       "      <td>1.0</td>\n",
       "      <td>0.0</td>\n",
       "      <td>0.0</td>\n",
       "      <td>0.0</td>\n",
       "      <td>0.0</td>\n",
       "      <td>0.0</td>\n",
       "      <td>1.0</td>\n",
       "      <td>0.0</td>\n",
       "      <td>0.0</td>\n",
       "    </tr>\n",
       "    <tr>\n",
       "      <th>10</th>\n",
       "      <td>NJ</td>\n",
       "      <td>20</td>\n",
       "      <td>7.0</td>\n",
       "      <td>3.0</td>\n",
       "      <td>1.0</td>\n",
       "      <td>0.0</td>\n",
       "      <td>4.0</td>\n",
       "      <td>1.0</td>\n",
       "      <td>3.0</td>\n",
       "      <td>0.0</td>\n",
       "      <td>1.0</td>\n",
       "      <td>0.0</td>\n",
       "      <td>0.0</td>\n",
       "    </tr>\n",
       "    <tr>\n",
       "      <th>11</th>\n",
       "      <td>NV</td>\n",
       "      <td>109</td>\n",
       "      <td>8.0</td>\n",
       "      <td>17.0</td>\n",
       "      <td>10.0</td>\n",
       "      <td>3.0</td>\n",
       "      <td>11.0</td>\n",
       "      <td>2.0</td>\n",
       "      <td>28.0</td>\n",
       "      <td>0.0</td>\n",
       "      <td>23.0</td>\n",
       "      <td>7.0</td>\n",
       "      <td>0.0</td>\n",
       "    </tr>\n",
       "    <tr>\n",
       "      <th>12</th>\n",
       "      <td>NY</td>\n",
       "      <td>148</td>\n",
       "      <td>24.0</td>\n",
       "      <td>6.0</td>\n",
       "      <td>0.0</td>\n",
       "      <td>6.0</td>\n",
       "      <td>22.0</td>\n",
       "      <td>0.0</td>\n",
       "      <td>0.0</td>\n",
       "      <td>0.0</td>\n",
       "      <td>67.0</td>\n",
       "      <td>15.0</td>\n",
       "      <td>8.0</td>\n",
       "    </tr>\n",
       "    <tr>\n",
       "      <th>13</th>\n",
       "      <td>OK</td>\n",
       "      <td>37</td>\n",
       "      <td>12.0</td>\n",
       "      <td>7.0</td>\n",
       "      <td>3.0</td>\n",
       "      <td>3.0</td>\n",
       "      <td>4.0</td>\n",
       "      <td>0.0</td>\n",
       "      <td>2.0</td>\n",
       "      <td>2.0</td>\n",
       "      <td>4.0</td>\n",
       "      <td>0.0</td>\n",
       "      <td>0.0</td>\n",
       "    </tr>\n",
       "    <tr>\n",
       "      <th>14</th>\n",
       "      <td>RI</td>\n",
       "      <td>27</td>\n",
       "      <td>2.0</td>\n",
       "      <td>5.0</td>\n",
       "      <td>0.0</td>\n",
       "      <td>3.0</td>\n",
       "      <td>0.0</td>\n",
       "      <td>2.0</td>\n",
       "      <td>9.0</td>\n",
       "      <td>0.0</td>\n",
       "      <td>6.0</td>\n",
       "      <td>0.0</td>\n",
       "      <td>0.0</td>\n",
       "    </tr>\n",
       "    <tr>\n",
       "      <th>15</th>\n",
       "      <td>SC</td>\n",
       "      <td>34</td>\n",
       "      <td>5.0</td>\n",
       "      <td>1.0</td>\n",
       "      <td>5.0</td>\n",
       "      <td>2.0</td>\n",
       "      <td>2.0</td>\n",
       "      <td>2.0</td>\n",
       "      <td>5.0</td>\n",
       "      <td>2.0</td>\n",
       "      <td>2.0</td>\n",
       "      <td>4.0</td>\n",
       "      <td>4.0</td>\n",
       "    </tr>\n",
       "    <tr>\n",
       "      <th>16</th>\n",
       "      <td>TN</td>\n",
       "      <td>72</td>\n",
       "      <td>18.0</td>\n",
       "      <td>8.0</td>\n",
       "      <td>10.0</td>\n",
       "      <td>0.0</td>\n",
       "      <td>9.0</td>\n",
       "      <td>0.0</td>\n",
       "      <td>6.0</td>\n",
       "      <td>0.0</td>\n",
       "      <td>21.0</td>\n",
       "      <td>0.0</td>\n",
       "      <td>0.0</td>\n",
       "    </tr>\n",
       "    <tr>\n",
       "      <th>17</th>\n",
       "      <td>TX</td>\n",
       "      <td>110</td>\n",
       "      <td>10.0</td>\n",
       "      <td>10.0</td>\n",
       "      <td>10.0</td>\n",
       "      <td>10.0</td>\n",
       "      <td>10.0</td>\n",
       "      <td>10.0</td>\n",
       "      <td>10.0</td>\n",
       "      <td>10.0</td>\n",
       "      <td>10.0</td>\n",
       "      <td>10.0</td>\n",
       "      <td>10.0</td>\n",
       "    </tr>\n",
       "    <tr>\n",
       "      <th>18</th>\n",
       "      <td>WA</td>\n",
       "      <td>14</td>\n",
       "      <td>1.0</td>\n",
       "      <td>1.0</td>\n",
       "      <td>0.0</td>\n",
       "      <td>1.0</td>\n",
       "      <td>0.0</td>\n",
       "      <td>0.0</td>\n",
       "      <td>0.0</td>\n",
       "      <td>0.0</td>\n",
       "      <td>2.0</td>\n",
       "      <td>0.0</td>\n",
       "      <td>8.0</td>\n",
       "    </tr>\n",
       "  </tbody>\n",
       "</table>\n",
       "</div>"
      ],
      "text/plain": [
       "   STUSPS  total cases  aromatic bourbon  cardamom  cassia  clove  ginger  \\\n",
       "0      AZ            6               0.0       0.0     0.0    0.0     0.0   \n",
       "1      CA           83               6.0       9.0     1.0    1.0     1.0   \n",
       "2      CO           63               0.0       6.0     0.0   11.0    16.0   \n",
       "3      CT           27               2.0       1.0     2.0    2.0     4.0   \n",
       "4      FL            5               0.0       1.0     0.0    0.0     0.0   \n",
       "5      GA           28               3.0       3.0     3.0    7.0     3.0   \n",
       "6      KS           10              10.0       0.0     0.0    0.0     0.0   \n",
       "7      MA            3               0.0       0.0     0.0    0.0     0.0   \n",
       "8      MD            3               0.0       0.0     1.0    0.0     0.0   \n",
       "9      MN            7               4.0       1.0     1.0    0.0     0.0   \n",
       "10     NJ           20               7.0       3.0     1.0    0.0     4.0   \n",
       "11     NV          109               8.0      17.0    10.0    3.0    11.0   \n",
       "12     NY          148              24.0       6.0     0.0    6.0    22.0   \n",
       "13     OK           37              12.0       7.0     3.0    3.0     4.0   \n",
       "14     RI           27               2.0       5.0     0.0    3.0     0.0   \n",
       "15     SC           34               5.0       1.0     5.0    2.0     2.0   \n",
       "16     TN           72              18.0       8.0    10.0    0.0     9.0   \n",
       "17     TX          110              10.0      10.0    10.0   10.0    10.0   \n",
       "18     WA           14               1.0       1.0     0.0    1.0     0.0   \n",
       "\n",
       "    lemon pepper  sassafras  szechuan  tres amigos  gracia mole  tropical tiki  \n",
       "0            0.0        0.0       0.0          6.0          0.0            0.0  \n",
       "1            0.0        4.0       8.0         42.0          9.0            2.0  \n",
       "2            0.0        5.0       0.0         25.0          0.0            0.0  \n",
       "3            0.0        4.0       0.0         12.0          4.0            0.0  \n",
       "4            0.0        1.0       2.0          1.0          0.0            0.0  \n",
       "5            0.0        3.0       0.0          7.0          0.0            0.0  \n",
       "6            0.0        0.0       0.0          0.0          0.0            0.0  \n",
       "7            0.0        0.0       0.0          3.0          0.0            0.0  \n",
       "8            0.0        1.0       0.0          1.0          0.0            0.0  \n",
       "9            0.0        0.0       0.0          1.0          0.0            0.0  \n",
       "10           1.0        3.0       0.0          1.0          0.0            0.0  \n",
       "11           2.0       28.0       0.0         23.0          7.0            0.0  \n",
       "12           0.0        0.0       0.0         67.0         15.0            8.0  \n",
       "13           0.0        2.0       2.0          4.0          0.0            0.0  \n",
       "14           2.0        9.0       0.0          6.0          0.0            0.0  \n",
       "15           2.0        5.0       2.0          2.0          4.0            4.0  \n",
       "16           0.0        6.0       0.0         21.0          0.0            0.0  \n",
       "17          10.0       10.0      10.0         10.0         10.0           10.0  \n",
       "18           0.0        0.0       0.0          2.0          0.0            8.0  "
      ]
     },
     "execution_count": 7,
     "metadata": {},
     "output_type": "execute_result"
    }
   ],
   "source": [
    "cases_by_state"
   ]
  },
  {
   "cell_type": "code",
   "execution_count": 8,
   "id": "24afb570",
   "metadata": {},
   "outputs": [],
   "source": [
    "data = dict(type = 'choropleth', \n",
    "            locations = cases_by_state['STUSPS'], \n",
    "            locationmode = 'USA-states', \n",
    "            z = cases_by_state['total cases'], \n",
    "            text = 'Aromatic Bourbon: '+cases_by_state['aromatic bourbon'].astype(str)\n",
    "                    +'<br>Cardamom: '+cases_by_state['cardamom'].astype(str)\n",
    "                    +'<br>Cassia: '+cases_by_state['cassia'].astype(str)\n",
    "                    +'<br>Clove: '+cases_by_state['clove'].astype(str)\n",
    "                    +'<br>Ginger: '+cases_by_state['ginger'].astype(str)\n",
    "                    +'<br>Lemon Pepper: '+cases_by_state['lemon pepper'].astype(str)\n",
    "                    +'<br>Sassafras: '+cases_by_state['sassafras'].astype(str)\n",
    "                    +'<br>Tres Amigos: '+cases_by_state['tres amigos'].astype(str)\n",
    "                    +'<br>Gracia Mole: '+cases_by_state['gracia mole'].astype(str)\n",
    "                    +'<br>Tropical Tiki: '+cases_by_state['tropical tiki'].astype(str),\n",
    "            colorscale = 'Greens',\n",
    "            colorbar = {'title':'Cases'})"
   ]
  },
  {
   "cell_type": "code",
   "execution_count": 9,
   "id": "bc7cd133",
   "metadata": {},
   "outputs": [],
   "source": [
    "layout = dict(title='Total Cases Sold',geo=dict(scope='usa',showlakes=True,lakecolor='rgb(0,191,255)'))       "
   ]
  },
  {
   "cell_type": "code",
   "execution_count": 10,
   "id": "7eb4c4a1",
   "metadata": {},
   "outputs": [],
   "source": [
    "choromap = go.Figure(data=[data],layout=layout)"
   ]
  },
  {
   "cell_type": "code",
   "execution_count": 11,
   "id": "d1c08d34",
   "metadata": {},
   "outputs": [
    {
     "data": {
      "application/vnd.plotly.v1+json": {
       "config": {
        "linkText": "Export to plot.ly",
        "plotlyServerURL": "https://plot.ly",
        "showLink": false
       },
       "data": [
        {
         "colorbar": {
          "title": {
           "text": "Cases"
          }
         },
         "colorscale": [
          [
           0,
           "rgb(247,252,245)"
          ],
          [
           0.125,
           "rgb(229,245,224)"
          ],
          [
           0.25,
           "rgb(199,233,192)"
          ],
          [
           0.375,
           "rgb(161,217,155)"
          ],
          [
           0.5,
           "rgb(116,196,118)"
          ],
          [
           0.625,
           "rgb(65,171,93)"
          ],
          [
           0.75,
           "rgb(35,139,69)"
          ],
          [
           0.875,
           "rgb(0,109,44)"
          ],
          [
           1,
           "rgb(0,68,27)"
          ]
         ],
         "locationmode": "USA-states",
         "locations": [
          "AZ",
          "CA",
          "CO",
          "CT",
          "FL",
          "GA",
          "KS",
          "MA",
          "MD",
          "MN",
          "NJ",
          "NV",
          "NY",
          "OK",
          "RI",
          "SC",
          "TN",
          "TX",
          "WA"
         ],
         "text": [
          "Aromatic Bourbon: 0.0<br>Cardamom: 0.0<br>Cassia: 0.0<br>Clove: 0.0<br>Ginger: 0.0<br>Lemon Pepper: 0.0<br>Sassafras: 0.0<br>Tres Amigos: 6.0<br>Gracia Mole: 0.0<br>Tropical Tiki: 0.0",
          "Aromatic Bourbon: 6.0<br>Cardamom: 9.0<br>Cassia: 1.0<br>Clove: 1.0<br>Ginger: 1.0<br>Lemon Pepper: 0.0<br>Sassafras: 4.0<br>Tres Amigos: 42.0<br>Gracia Mole: 9.0<br>Tropical Tiki: 2.0",
          "Aromatic Bourbon: 0.0<br>Cardamom: 6.0<br>Cassia: 0.0<br>Clove: 11.0<br>Ginger: 16.0<br>Lemon Pepper: 0.0<br>Sassafras: 5.0<br>Tres Amigos: 25.0<br>Gracia Mole: 0.0<br>Tropical Tiki: 0.0",
          "Aromatic Bourbon: 2.0<br>Cardamom: 1.0<br>Cassia: 2.0<br>Clove: 2.0<br>Ginger: 4.0<br>Lemon Pepper: 0.0<br>Sassafras: 4.0<br>Tres Amigos: 12.0<br>Gracia Mole: 4.0<br>Tropical Tiki: 0.0",
          "Aromatic Bourbon: 0.0<br>Cardamom: 1.0<br>Cassia: 0.0<br>Clove: 0.0<br>Ginger: 0.0<br>Lemon Pepper: 0.0<br>Sassafras: 1.0<br>Tres Amigos: 1.0<br>Gracia Mole: 0.0<br>Tropical Tiki: 0.0",
          "Aromatic Bourbon: 3.0<br>Cardamom: 3.0<br>Cassia: 3.0<br>Clove: 7.0<br>Ginger: 3.0<br>Lemon Pepper: 0.0<br>Sassafras: 3.0<br>Tres Amigos: 7.0<br>Gracia Mole: 0.0<br>Tropical Tiki: 0.0",
          "Aromatic Bourbon: 10.0<br>Cardamom: 0.0<br>Cassia: 0.0<br>Clove: 0.0<br>Ginger: 0.0<br>Lemon Pepper: 0.0<br>Sassafras: 0.0<br>Tres Amigos: 0.0<br>Gracia Mole: 0.0<br>Tropical Tiki: 0.0",
          "Aromatic Bourbon: 0.0<br>Cardamom: 0.0<br>Cassia: 0.0<br>Clove: 0.0<br>Ginger: 0.0<br>Lemon Pepper: 0.0<br>Sassafras: 0.0<br>Tres Amigos: 3.0<br>Gracia Mole: 0.0<br>Tropical Tiki: 0.0",
          "Aromatic Bourbon: 0.0<br>Cardamom: 0.0<br>Cassia: 1.0<br>Clove: 0.0<br>Ginger: 0.0<br>Lemon Pepper: 0.0<br>Sassafras: 1.0<br>Tres Amigos: 1.0<br>Gracia Mole: 0.0<br>Tropical Tiki: 0.0",
          "Aromatic Bourbon: 4.0<br>Cardamom: 1.0<br>Cassia: 1.0<br>Clove: 0.0<br>Ginger: 0.0<br>Lemon Pepper: 0.0<br>Sassafras: 0.0<br>Tres Amigos: 1.0<br>Gracia Mole: 0.0<br>Tropical Tiki: 0.0",
          "Aromatic Bourbon: 7.0<br>Cardamom: 3.0<br>Cassia: 1.0<br>Clove: 0.0<br>Ginger: 4.0<br>Lemon Pepper: 1.0<br>Sassafras: 3.0<br>Tres Amigos: 1.0<br>Gracia Mole: 0.0<br>Tropical Tiki: 0.0",
          "Aromatic Bourbon: 8.0<br>Cardamom: 17.0<br>Cassia: 10.0<br>Clove: 3.0<br>Ginger: 11.0<br>Lemon Pepper: 2.0<br>Sassafras: 28.0<br>Tres Amigos: 23.0<br>Gracia Mole: 7.0<br>Tropical Tiki: 0.0",
          "Aromatic Bourbon: 24.0<br>Cardamom: 6.0<br>Cassia: 0.0<br>Clove: 6.0<br>Ginger: 22.0<br>Lemon Pepper: 0.0<br>Sassafras: 0.0<br>Tres Amigos: 67.0<br>Gracia Mole: 15.0<br>Tropical Tiki: 8.0",
          "Aromatic Bourbon: 12.0<br>Cardamom: 7.0<br>Cassia: 3.0<br>Clove: 3.0<br>Ginger: 4.0<br>Lemon Pepper: 0.0<br>Sassafras: 2.0<br>Tres Amigos: 4.0<br>Gracia Mole: 0.0<br>Tropical Tiki: 0.0",
          "Aromatic Bourbon: 2.0<br>Cardamom: 5.0<br>Cassia: 0.0<br>Clove: 3.0<br>Ginger: 0.0<br>Lemon Pepper: 2.0<br>Sassafras: 9.0<br>Tres Amigos: 6.0<br>Gracia Mole: 0.0<br>Tropical Tiki: 0.0",
          "Aromatic Bourbon: 5.0<br>Cardamom: 1.0<br>Cassia: 5.0<br>Clove: 2.0<br>Ginger: 2.0<br>Lemon Pepper: 2.0<br>Sassafras: 5.0<br>Tres Amigos: 2.0<br>Gracia Mole: 4.0<br>Tropical Tiki: 4.0",
          "Aromatic Bourbon: 18.0<br>Cardamom: 8.0<br>Cassia: 10.0<br>Clove: 0.0<br>Ginger: 9.0<br>Lemon Pepper: 0.0<br>Sassafras: 6.0<br>Tres Amigos: 21.0<br>Gracia Mole: 0.0<br>Tropical Tiki: 0.0",
          "Aromatic Bourbon: 10.0<br>Cardamom: 10.0<br>Cassia: 10.0<br>Clove: 10.0<br>Ginger: 10.0<br>Lemon Pepper: 10.0<br>Sassafras: 10.0<br>Tres Amigos: 10.0<br>Gracia Mole: 10.0<br>Tropical Tiki: 10.0",
          "Aromatic Bourbon: 1.0<br>Cardamom: 1.0<br>Cassia: 0.0<br>Clove: 1.0<br>Ginger: 0.0<br>Lemon Pepper: 0.0<br>Sassafras: 0.0<br>Tres Amigos: 2.0<br>Gracia Mole: 0.0<br>Tropical Tiki: 8.0"
         ],
         "type": "choropleth",
         "z": [
          6,
          83,
          63,
          27,
          5,
          28,
          10,
          3,
          3,
          7,
          20,
          109,
          148,
          37,
          27,
          34,
          72,
          110,
          14
         ]
        }
       ],
       "layout": {
        "geo": {
         "lakecolor": "rgb(0,191,255)",
         "scope": "usa",
         "showlakes": true
        },
        "template": {
         "data": {
          "bar": [
           {
            "error_x": {
             "color": "#2a3f5f"
            },
            "error_y": {
             "color": "#2a3f5f"
            },
            "marker": {
             "line": {
              "color": "#E5ECF6",
              "width": 0.5
             },
             "pattern": {
              "fillmode": "overlay",
              "size": 10,
              "solidity": 0.2
             }
            },
            "type": "bar"
           }
          ],
          "barpolar": [
           {
            "marker": {
             "line": {
              "color": "#E5ECF6",
              "width": 0.5
             },
             "pattern": {
              "fillmode": "overlay",
              "size": 10,
              "solidity": 0.2
             }
            },
            "type": "barpolar"
           }
          ],
          "carpet": [
           {
            "aaxis": {
             "endlinecolor": "#2a3f5f",
             "gridcolor": "white",
             "linecolor": "white",
             "minorgridcolor": "white",
             "startlinecolor": "#2a3f5f"
            },
            "baxis": {
             "endlinecolor": "#2a3f5f",
             "gridcolor": "white",
             "linecolor": "white",
             "minorgridcolor": "white",
             "startlinecolor": "#2a3f5f"
            },
            "type": "carpet"
           }
          ],
          "choropleth": [
           {
            "colorbar": {
             "outlinewidth": 0,
             "ticks": ""
            },
            "type": "choropleth"
           }
          ],
          "contour": [
           {
            "colorbar": {
             "outlinewidth": 0,
             "ticks": ""
            },
            "colorscale": [
             [
              0,
              "#0d0887"
             ],
             [
              0.1111111111111111,
              "#46039f"
             ],
             [
              0.2222222222222222,
              "#7201a8"
             ],
             [
              0.3333333333333333,
              "#9c179e"
             ],
             [
              0.4444444444444444,
              "#bd3786"
             ],
             [
              0.5555555555555556,
              "#d8576b"
             ],
             [
              0.6666666666666666,
              "#ed7953"
             ],
             [
              0.7777777777777778,
              "#fb9f3a"
             ],
             [
              0.8888888888888888,
              "#fdca26"
             ],
             [
              1,
              "#f0f921"
             ]
            ],
            "type": "contour"
           }
          ],
          "contourcarpet": [
           {
            "colorbar": {
             "outlinewidth": 0,
             "ticks": ""
            },
            "type": "contourcarpet"
           }
          ],
          "heatmap": [
           {
            "colorbar": {
             "outlinewidth": 0,
             "ticks": ""
            },
            "colorscale": [
             [
              0,
              "#0d0887"
             ],
             [
              0.1111111111111111,
              "#46039f"
             ],
             [
              0.2222222222222222,
              "#7201a8"
             ],
             [
              0.3333333333333333,
              "#9c179e"
             ],
             [
              0.4444444444444444,
              "#bd3786"
             ],
             [
              0.5555555555555556,
              "#d8576b"
             ],
             [
              0.6666666666666666,
              "#ed7953"
             ],
             [
              0.7777777777777778,
              "#fb9f3a"
             ],
             [
              0.8888888888888888,
              "#fdca26"
             ],
             [
              1,
              "#f0f921"
             ]
            ],
            "type": "heatmap"
           }
          ],
          "heatmapgl": [
           {
            "colorbar": {
             "outlinewidth": 0,
             "ticks": ""
            },
            "colorscale": [
             [
              0,
              "#0d0887"
             ],
             [
              0.1111111111111111,
              "#46039f"
             ],
             [
              0.2222222222222222,
              "#7201a8"
             ],
             [
              0.3333333333333333,
              "#9c179e"
             ],
             [
              0.4444444444444444,
              "#bd3786"
             ],
             [
              0.5555555555555556,
              "#d8576b"
             ],
             [
              0.6666666666666666,
              "#ed7953"
             ],
             [
              0.7777777777777778,
              "#fb9f3a"
             ],
             [
              0.8888888888888888,
              "#fdca26"
             ],
             [
              1,
              "#f0f921"
             ]
            ],
            "type": "heatmapgl"
           }
          ],
          "histogram": [
           {
            "marker": {
             "pattern": {
              "fillmode": "overlay",
              "size": 10,
              "solidity": 0.2
             }
            },
            "type": "histogram"
           }
          ],
          "histogram2d": [
           {
            "colorbar": {
             "outlinewidth": 0,
             "ticks": ""
            },
            "colorscale": [
             [
              0,
              "#0d0887"
             ],
             [
              0.1111111111111111,
              "#46039f"
             ],
             [
              0.2222222222222222,
              "#7201a8"
             ],
             [
              0.3333333333333333,
              "#9c179e"
             ],
             [
              0.4444444444444444,
              "#bd3786"
             ],
             [
              0.5555555555555556,
              "#d8576b"
             ],
             [
              0.6666666666666666,
              "#ed7953"
             ],
             [
              0.7777777777777778,
              "#fb9f3a"
             ],
             [
              0.8888888888888888,
              "#fdca26"
             ],
             [
              1,
              "#f0f921"
             ]
            ],
            "type": "histogram2d"
           }
          ],
          "histogram2dcontour": [
           {
            "colorbar": {
             "outlinewidth": 0,
             "ticks": ""
            },
            "colorscale": [
             [
              0,
              "#0d0887"
             ],
             [
              0.1111111111111111,
              "#46039f"
             ],
             [
              0.2222222222222222,
              "#7201a8"
             ],
             [
              0.3333333333333333,
              "#9c179e"
             ],
             [
              0.4444444444444444,
              "#bd3786"
             ],
             [
              0.5555555555555556,
              "#d8576b"
             ],
             [
              0.6666666666666666,
              "#ed7953"
             ],
             [
              0.7777777777777778,
              "#fb9f3a"
             ],
             [
              0.8888888888888888,
              "#fdca26"
             ],
             [
              1,
              "#f0f921"
             ]
            ],
            "type": "histogram2dcontour"
           }
          ],
          "mesh3d": [
           {
            "colorbar": {
             "outlinewidth": 0,
             "ticks": ""
            },
            "type": "mesh3d"
           }
          ],
          "parcoords": [
           {
            "line": {
             "colorbar": {
              "outlinewidth": 0,
              "ticks": ""
             }
            },
            "type": "parcoords"
           }
          ],
          "pie": [
           {
            "automargin": true,
            "type": "pie"
           }
          ],
          "scatter": [
           {
            "marker": {
             "colorbar": {
              "outlinewidth": 0,
              "ticks": ""
             }
            },
            "type": "scatter"
           }
          ],
          "scatter3d": [
           {
            "line": {
             "colorbar": {
              "outlinewidth": 0,
              "ticks": ""
             }
            },
            "marker": {
             "colorbar": {
              "outlinewidth": 0,
              "ticks": ""
             }
            },
            "type": "scatter3d"
           }
          ],
          "scattercarpet": [
           {
            "marker": {
             "colorbar": {
              "outlinewidth": 0,
              "ticks": ""
             }
            },
            "type": "scattercarpet"
           }
          ],
          "scattergeo": [
           {
            "marker": {
             "colorbar": {
              "outlinewidth": 0,
              "ticks": ""
             }
            },
            "type": "scattergeo"
           }
          ],
          "scattergl": [
           {
            "marker": {
             "colorbar": {
              "outlinewidth": 0,
              "ticks": ""
             }
            },
            "type": "scattergl"
           }
          ],
          "scattermapbox": [
           {
            "marker": {
             "colorbar": {
              "outlinewidth": 0,
              "ticks": ""
             }
            },
            "type": "scattermapbox"
           }
          ],
          "scatterpolar": [
           {
            "marker": {
             "colorbar": {
              "outlinewidth": 0,
              "ticks": ""
             }
            },
            "type": "scatterpolar"
           }
          ],
          "scatterpolargl": [
           {
            "marker": {
             "colorbar": {
              "outlinewidth": 0,
              "ticks": ""
             }
            },
            "type": "scatterpolargl"
           }
          ],
          "scatterternary": [
           {
            "marker": {
             "colorbar": {
              "outlinewidth": 0,
              "ticks": ""
             }
            },
            "type": "scatterternary"
           }
          ],
          "surface": [
           {
            "colorbar": {
             "outlinewidth": 0,
             "ticks": ""
            },
            "colorscale": [
             [
              0,
              "#0d0887"
             ],
             [
              0.1111111111111111,
              "#46039f"
             ],
             [
              0.2222222222222222,
              "#7201a8"
             ],
             [
              0.3333333333333333,
              "#9c179e"
             ],
             [
              0.4444444444444444,
              "#bd3786"
             ],
             [
              0.5555555555555556,
              "#d8576b"
             ],
             [
              0.6666666666666666,
              "#ed7953"
             ],
             [
              0.7777777777777778,
              "#fb9f3a"
             ],
             [
              0.8888888888888888,
              "#fdca26"
             ],
             [
              1,
              "#f0f921"
             ]
            ],
            "type": "surface"
           }
          ],
          "table": [
           {
            "cells": {
             "fill": {
              "color": "#EBF0F8"
             },
             "line": {
              "color": "white"
             }
            },
            "header": {
             "fill": {
              "color": "#C8D4E3"
             },
             "line": {
              "color": "white"
             }
            },
            "type": "table"
           }
          ]
         },
         "layout": {
          "annotationdefaults": {
           "arrowcolor": "#2a3f5f",
           "arrowhead": 0,
           "arrowwidth": 1
          },
          "autotypenumbers": "strict",
          "coloraxis": {
           "colorbar": {
            "outlinewidth": 0,
            "ticks": ""
           }
          },
          "colorscale": {
           "diverging": [
            [
             0,
             "#8e0152"
            ],
            [
             0.1,
             "#c51b7d"
            ],
            [
             0.2,
             "#de77ae"
            ],
            [
             0.3,
             "#f1b6da"
            ],
            [
             0.4,
             "#fde0ef"
            ],
            [
             0.5,
             "#f7f7f7"
            ],
            [
             0.6,
             "#e6f5d0"
            ],
            [
             0.7,
             "#b8e186"
            ],
            [
             0.8,
             "#7fbc41"
            ],
            [
             0.9,
             "#4d9221"
            ],
            [
             1,
             "#276419"
            ]
           ],
           "sequential": [
            [
             0,
             "#0d0887"
            ],
            [
             0.1111111111111111,
             "#46039f"
            ],
            [
             0.2222222222222222,
             "#7201a8"
            ],
            [
             0.3333333333333333,
             "#9c179e"
            ],
            [
             0.4444444444444444,
             "#bd3786"
            ],
            [
             0.5555555555555556,
             "#d8576b"
            ],
            [
             0.6666666666666666,
             "#ed7953"
            ],
            [
             0.7777777777777778,
             "#fb9f3a"
            ],
            [
             0.8888888888888888,
             "#fdca26"
            ],
            [
             1,
             "#f0f921"
            ]
           ],
           "sequentialminus": [
            [
             0,
             "#0d0887"
            ],
            [
             0.1111111111111111,
             "#46039f"
            ],
            [
             0.2222222222222222,
             "#7201a8"
            ],
            [
             0.3333333333333333,
             "#9c179e"
            ],
            [
             0.4444444444444444,
             "#bd3786"
            ],
            [
             0.5555555555555556,
             "#d8576b"
            ],
            [
             0.6666666666666666,
             "#ed7953"
            ],
            [
             0.7777777777777778,
             "#fb9f3a"
            ],
            [
             0.8888888888888888,
             "#fdca26"
            ],
            [
             1,
             "#f0f921"
            ]
           ]
          },
          "colorway": [
           "#636efa",
           "#EF553B",
           "#00cc96",
           "#ab63fa",
           "#FFA15A",
           "#19d3f3",
           "#FF6692",
           "#B6E880",
           "#FF97FF",
           "#FECB52"
          ],
          "font": {
           "color": "#2a3f5f"
          },
          "geo": {
           "bgcolor": "white",
           "lakecolor": "white",
           "landcolor": "#E5ECF6",
           "showlakes": true,
           "showland": true,
           "subunitcolor": "white"
          },
          "hoverlabel": {
           "align": "left"
          },
          "hovermode": "closest",
          "mapbox": {
           "style": "light"
          },
          "paper_bgcolor": "white",
          "plot_bgcolor": "#E5ECF6",
          "polar": {
           "angularaxis": {
            "gridcolor": "white",
            "linecolor": "white",
            "ticks": ""
           },
           "bgcolor": "#E5ECF6",
           "radialaxis": {
            "gridcolor": "white",
            "linecolor": "white",
            "ticks": ""
           }
          },
          "scene": {
           "xaxis": {
            "backgroundcolor": "#E5ECF6",
            "gridcolor": "white",
            "gridwidth": 2,
            "linecolor": "white",
            "showbackground": true,
            "ticks": "",
            "zerolinecolor": "white"
           },
           "yaxis": {
            "backgroundcolor": "#E5ECF6",
            "gridcolor": "white",
            "gridwidth": 2,
            "linecolor": "white",
            "showbackground": true,
            "ticks": "",
            "zerolinecolor": "white"
           },
           "zaxis": {
            "backgroundcolor": "#E5ECF6",
            "gridcolor": "white",
            "gridwidth": 2,
            "linecolor": "white",
            "showbackground": true,
            "ticks": "",
            "zerolinecolor": "white"
           }
          },
          "shapedefaults": {
           "line": {
            "color": "#2a3f5f"
           }
          },
          "ternary": {
           "aaxis": {
            "gridcolor": "white",
            "linecolor": "white",
            "ticks": ""
           },
           "baxis": {
            "gridcolor": "white",
            "linecolor": "white",
            "ticks": ""
           },
           "bgcolor": "#E5ECF6",
           "caxis": {
            "gridcolor": "white",
            "linecolor": "white",
            "ticks": ""
           }
          },
          "title": {
           "x": 0.05
          },
          "xaxis": {
           "automargin": true,
           "gridcolor": "white",
           "linecolor": "white",
           "ticks": "",
           "title": {
            "standoff": 15
           },
           "zerolinecolor": "white",
           "zerolinewidth": 2
          },
          "yaxis": {
           "automargin": true,
           "gridcolor": "white",
           "linecolor": "white",
           "ticks": "",
           "title": {
            "standoff": 15
           },
           "zerolinecolor": "white",
           "zerolinewidth": 2
          }
         }
        },
        "title": {
         "text": "Total Cases Sold"
        }
       }
      },
      "text/html": [
       "<div>                            <div id=\"a06c24f7-2ab7-4d61-ba07-d24aaf62268f\" class=\"plotly-graph-div\" style=\"height:525px; width:100%;\"></div>            <script type=\"text/javascript\">                require([\"plotly\"], function(Plotly) {                    window.PLOTLYENV=window.PLOTLYENV || {};                                    if (document.getElementById(\"a06c24f7-2ab7-4d61-ba07-d24aaf62268f\")) {                    Plotly.newPlot(                        \"a06c24f7-2ab7-4d61-ba07-d24aaf62268f\",                        [{\"colorbar\":{\"title\":{\"text\":\"Cases\"}},\"colorscale\":[[0.0,\"rgb(247,252,245)\"],[0.125,\"rgb(229,245,224)\"],[0.25,\"rgb(199,233,192)\"],[0.375,\"rgb(161,217,155)\"],[0.5,\"rgb(116,196,118)\"],[0.625,\"rgb(65,171,93)\"],[0.75,\"rgb(35,139,69)\"],[0.875,\"rgb(0,109,44)\"],[1.0,\"rgb(0,68,27)\"]],\"locationmode\":\"USA-states\",\"locations\":[\"AZ\",\"CA\",\"CO\",\"CT\",\"FL\",\"GA\",\"KS\",\"MA\",\"MD\",\"MN\",\"NJ\",\"NV\",\"NY\",\"OK\",\"RI\",\"SC\",\"TN\",\"TX\",\"WA\"],\"text\":[\"Aromatic Bourbon: 0.0<br>Cardamom: 0.0<br>Cassia: 0.0<br>Clove: 0.0<br>Ginger: 0.0<br>Lemon Pepper: 0.0<br>Sassafras: 0.0<br>Tres Amigos: 6.0<br>Gracia Mole: 0.0<br>Tropical Tiki: 0.0\",\"Aromatic Bourbon: 6.0<br>Cardamom: 9.0<br>Cassia: 1.0<br>Clove: 1.0<br>Ginger: 1.0<br>Lemon Pepper: 0.0<br>Sassafras: 4.0<br>Tres Amigos: 42.0<br>Gracia Mole: 9.0<br>Tropical Tiki: 2.0\",\"Aromatic Bourbon: 0.0<br>Cardamom: 6.0<br>Cassia: 0.0<br>Clove: 11.0<br>Ginger: 16.0<br>Lemon Pepper: 0.0<br>Sassafras: 5.0<br>Tres Amigos: 25.0<br>Gracia Mole: 0.0<br>Tropical Tiki: 0.0\",\"Aromatic Bourbon: 2.0<br>Cardamom: 1.0<br>Cassia: 2.0<br>Clove: 2.0<br>Ginger: 4.0<br>Lemon Pepper: 0.0<br>Sassafras: 4.0<br>Tres Amigos: 12.0<br>Gracia Mole: 4.0<br>Tropical Tiki: 0.0\",\"Aromatic Bourbon: 0.0<br>Cardamom: 1.0<br>Cassia: 0.0<br>Clove: 0.0<br>Ginger: 0.0<br>Lemon Pepper: 0.0<br>Sassafras: 1.0<br>Tres Amigos: 1.0<br>Gracia Mole: 0.0<br>Tropical Tiki: 0.0\",\"Aromatic Bourbon: 3.0<br>Cardamom: 3.0<br>Cassia: 3.0<br>Clove: 7.0<br>Ginger: 3.0<br>Lemon Pepper: 0.0<br>Sassafras: 3.0<br>Tres Amigos: 7.0<br>Gracia Mole: 0.0<br>Tropical Tiki: 0.0\",\"Aromatic Bourbon: 10.0<br>Cardamom: 0.0<br>Cassia: 0.0<br>Clove: 0.0<br>Ginger: 0.0<br>Lemon Pepper: 0.0<br>Sassafras: 0.0<br>Tres Amigos: 0.0<br>Gracia Mole: 0.0<br>Tropical Tiki: 0.0\",\"Aromatic Bourbon: 0.0<br>Cardamom: 0.0<br>Cassia: 0.0<br>Clove: 0.0<br>Ginger: 0.0<br>Lemon Pepper: 0.0<br>Sassafras: 0.0<br>Tres Amigos: 3.0<br>Gracia Mole: 0.0<br>Tropical Tiki: 0.0\",\"Aromatic Bourbon: 0.0<br>Cardamom: 0.0<br>Cassia: 1.0<br>Clove: 0.0<br>Ginger: 0.0<br>Lemon Pepper: 0.0<br>Sassafras: 1.0<br>Tres Amigos: 1.0<br>Gracia Mole: 0.0<br>Tropical Tiki: 0.0\",\"Aromatic Bourbon: 4.0<br>Cardamom: 1.0<br>Cassia: 1.0<br>Clove: 0.0<br>Ginger: 0.0<br>Lemon Pepper: 0.0<br>Sassafras: 0.0<br>Tres Amigos: 1.0<br>Gracia Mole: 0.0<br>Tropical Tiki: 0.0\",\"Aromatic Bourbon: 7.0<br>Cardamom: 3.0<br>Cassia: 1.0<br>Clove: 0.0<br>Ginger: 4.0<br>Lemon Pepper: 1.0<br>Sassafras: 3.0<br>Tres Amigos: 1.0<br>Gracia Mole: 0.0<br>Tropical Tiki: 0.0\",\"Aromatic Bourbon: 8.0<br>Cardamom: 17.0<br>Cassia: 10.0<br>Clove: 3.0<br>Ginger: 11.0<br>Lemon Pepper: 2.0<br>Sassafras: 28.0<br>Tres Amigos: 23.0<br>Gracia Mole: 7.0<br>Tropical Tiki: 0.0\",\"Aromatic Bourbon: 24.0<br>Cardamom: 6.0<br>Cassia: 0.0<br>Clove: 6.0<br>Ginger: 22.0<br>Lemon Pepper: 0.0<br>Sassafras: 0.0<br>Tres Amigos: 67.0<br>Gracia Mole: 15.0<br>Tropical Tiki: 8.0\",\"Aromatic Bourbon: 12.0<br>Cardamom: 7.0<br>Cassia: 3.0<br>Clove: 3.0<br>Ginger: 4.0<br>Lemon Pepper: 0.0<br>Sassafras: 2.0<br>Tres Amigos: 4.0<br>Gracia Mole: 0.0<br>Tropical Tiki: 0.0\",\"Aromatic Bourbon: 2.0<br>Cardamom: 5.0<br>Cassia: 0.0<br>Clove: 3.0<br>Ginger: 0.0<br>Lemon Pepper: 2.0<br>Sassafras: 9.0<br>Tres Amigos: 6.0<br>Gracia Mole: 0.0<br>Tropical Tiki: 0.0\",\"Aromatic Bourbon: 5.0<br>Cardamom: 1.0<br>Cassia: 5.0<br>Clove: 2.0<br>Ginger: 2.0<br>Lemon Pepper: 2.0<br>Sassafras: 5.0<br>Tres Amigos: 2.0<br>Gracia Mole: 4.0<br>Tropical Tiki: 4.0\",\"Aromatic Bourbon: 18.0<br>Cardamom: 8.0<br>Cassia: 10.0<br>Clove: 0.0<br>Ginger: 9.0<br>Lemon Pepper: 0.0<br>Sassafras: 6.0<br>Tres Amigos: 21.0<br>Gracia Mole: 0.0<br>Tropical Tiki: 0.0\",\"Aromatic Bourbon: 10.0<br>Cardamom: 10.0<br>Cassia: 10.0<br>Clove: 10.0<br>Ginger: 10.0<br>Lemon Pepper: 10.0<br>Sassafras: 10.0<br>Tres Amigos: 10.0<br>Gracia Mole: 10.0<br>Tropical Tiki: 10.0\",\"Aromatic Bourbon: 1.0<br>Cardamom: 1.0<br>Cassia: 0.0<br>Clove: 1.0<br>Ginger: 0.0<br>Lemon Pepper: 0.0<br>Sassafras: 0.0<br>Tres Amigos: 2.0<br>Gracia Mole: 0.0<br>Tropical Tiki: 8.0\"],\"z\":[6,83,63,27,5,28,10,3,3,7,20,109,148,37,27,34,72,110,14],\"type\":\"choropleth\"}],                        {\"geo\":{\"lakecolor\":\"rgb(0,191,255)\",\"scope\":\"usa\",\"showlakes\":true},\"template\":{\"data\":{\"barpolar\":[{\"marker\":{\"line\":{\"color\":\"#E5ECF6\",\"width\":0.5},\"pattern\":{\"fillmode\":\"overlay\",\"size\":10,\"solidity\":0.2}},\"type\":\"barpolar\"}],\"bar\":[{\"error_x\":{\"color\":\"#2a3f5f\"},\"error_y\":{\"color\":\"#2a3f5f\"},\"marker\":{\"line\":{\"color\":\"#E5ECF6\",\"width\":0.5},\"pattern\":{\"fillmode\":\"overlay\",\"size\":10,\"solidity\":0.2}},\"type\":\"bar\"}],\"carpet\":[{\"aaxis\":{\"endlinecolor\":\"#2a3f5f\",\"gridcolor\":\"white\",\"linecolor\":\"white\",\"minorgridcolor\":\"white\",\"startlinecolor\":\"#2a3f5f\"},\"baxis\":{\"endlinecolor\":\"#2a3f5f\",\"gridcolor\":\"white\",\"linecolor\":\"white\",\"minorgridcolor\":\"white\",\"startlinecolor\":\"#2a3f5f\"},\"type\":\"carpet\"}],\"choropleth\":[{\"colorbar\":{\"outlinewidth\":0,\"ticks\":\"\"},\"type\":\"choropleth\"}],\"contourcarpet\":[{\"colorbar\":{\"outlinewidth\":0,\"ticks\":\"\"},\"type\":\"contourcarpet\"}],\"contour\":[{\"colorbar\":{\"outlinewidth\":0,\"ticks\":\"\"},\"colorscale\":[[0.0,\"#0d0887\"],[0.1111111111111111,\"#46039f\"],[0.2222222222222222,\"#7201a8\"],[0.3333333333333333,\"#9c179e\"],[0.4444444444444444,\"#bd3786\"],[0.5555555555555556,\"#d8576b\"],[0.6666666666666666,\"#ed7953\"],[0.7777777777777778,\"#fb9f3a\"],[0.8888888888888888,\"#fdca26\"],[1.0,\"#f0f921\"]],\"type\":\"contour\"}],\"heatmapgl\":[{\"colorbar\":{\"outlinewidth\":0,\"ticks\":\"\"},\"colorscale\":[[0.0,\"#0d0887\"],[0.1111111111111111,\"#46039f\"],[0.2222222222222222,\"#7201a8\"],[0.3333333333333333,\"#9c179e\"],[0.4444444444444444,\"#bd3786\"],[0.5555555555555556,\"#d8576b\"],[0.6666666666666666,\"#ed7953\"],[0.7777777777777778,\"#fb9f3a\"],[0.8888888888888888,\"#fdca26\"],[1.0,\"#f0f921\"]],\"type\":\"heatmapgl\"}],\"heatmap\":[{\"colorbar\":{\"outlinewidth\":0,\"ticks\":\"\"},\"colorscale\":[[0.0,\"#0d0887\"],[0.1111111111111111,\"#46039f\"],[0.2222222222222222,\"#7201a8\"],[0.3333333333333333,\"#9c179e\"],[0.4444444444444444,\"#bd3786\"],[0.5555555555555556,\"#d8576b\"],[0.6666666666666666,\"#ed7953\"],[0.7777777777777778,\"#fb9f3a\"],[0.8888888888888888,\"#fdca26\"],[1.0,\"#f0f921\"]],\"type\":\"heatmap\"}],\"histogram2dcontour\":[{\"colorbar\":{\"outlinewidth\":0,\"ticks\":\"\"},\"colorscale\":[[0.0,\"#0d0887\"],[0.1111111111111111,\"#46039f\"],[0.2222222222222222,\"#7201a8\"],[0.3333333333333333,\"#9c179e\"],[0.4444444444444444,\"#bd3786\"],[0.5555555555555556,\"#d8576b\"],[0.6666666666666666,\"#ed7953\"],[0.7777777777777778,\"#fb9f3a\"],[0.8888888888888888,\"#fdca26\"],[1.0,\"#f0f921\"]],\"type\":\"histogram2dcontour\"}],\"histogram2d\":[{\"colorbar\":{\"outlinewidth\":0,\"ticks\":\"\"},\"colorscale\":[[0.0,\"#0d0887\"],[0.1111111111111111,\"#46039f\"],[0.2222222222222222,\"#7201a8\"],[0.3333333333333333,\"#9c179e\"],[0.4444444444444444,\"#bd3786\"],[0.5555555555555556,\"#d8576b\"],[0.6666666666666666,\"#ed7953\"],[0.7777777777777778,\"#fb9f3a\"],[0.8888888888888888,\"#fdca26\"],[1.0,\"#f0f921\"]],\"type\":\"histogram2d\"}],\"histogram\":[{\"marker\":{\"pattern\":{\"fillmode\":\"overlay\",\"size\":10,\"solidity\":0.2}},\"type\":\"histogram\"}],\"mesh3d\":[{\"colorbar\":{\"outlinewidth\":0,\"ticks\":\"\"},\"type\":\"mesh3d\"}],\"parcoords\":[{\"line\":{\"colorbar\":{\"outlinewidth\":0,\"ticks\":\"\"}},\"type\":\"parcoords\"}],\"pie\":[{\"automargin\":true,\"type\":\"pie\"}],\"scatter3d\":[{\"line\":{\"colorbar\":{\"outlinewidth\":0,\"ticks\":\"\"}},\"marker\":{\"colorbar\":{\"outlinewidth\":0,\"ticks\":\"\"}},\"type\":\"scatter3d\"}],\"scattercarpet\":[{\"marker\":{\"colorbar\":{\"outlinewidth\":0,\"ticks\":\"\"}},\"type\":\"scattercarpet\"}],\"scattergeo\":[{\"marker\":{\"colorbar\":{\"outlinewidth\":0,\"ticks\":\"\"}},\"type\":\"scattergeo\"}],\"scattergl\":[{\"marker\":{\"colorbar\":{\"outlinewidth\":0,\"ticks\":\"\"}},\"type\":\"scattergl\"}],\"scattermapbox\":[{\"marker\":{\"colorbar\":{\"outlinewidth\":0,\"ticks\":\"\"}},\"type\":\"scattermapbox\"}],\"scatterpolargl\":[{\"marker\":{\"colorbar\":{\"outlinewidth\":0,\"ticks\":\"\"}},\"type\":\"scatterpolargl\"}],\"scatterpolar\":[{\"marker\":{\"colorbar\":{\"outlinewidth\":0,\"ticks\":\"\"}},\"type\":\"scatterpolar\"}],\"scatter\":[{\"marker\":{\"colorbar\":{\"outlinewidth\":0,\"ticks\":\"\"}},\"type\":\"scatter\"}],\"scatterternary\":[{\"marker\":{\"colorbar\":{\"outlinewidth\":0,\"ticks\":\"\"}},\"type\":\"scatterternary\"}],\"surface\":[{\"colorbar\":{\"outlinewidth\":0,\"ticks\":\"\"},\"colorscale\":[[0.0,\"#0d0887\"],[0.1111111111111111,\"#46039f\"],[0.2222222222222222,\"#7201a8\"],[0.3333333333333333,\"#9c179e\"],[0.4444444444444444,\"#bd3786\"],[0.5555555555555556,\"#d8576b\"],[0.6666666666666666,\"#ed7953\"],[0.7777777777777778,\"#fb9f3a\"],[0.8888888888888888,\"#fdca26\"],[1.0,\"#f0f921\"]],\"type\":\"surface\"}],\"table\":[{\"cells\":{\"fill\":{\"color\":\"#EBF0F8\"},\"line\":{\"color\":\"white\"}},\"header\":{\"fill\":{\"color\":\"#C8D4E3\"},\"line\":{\"color\":\"white\"}},\"type\":\"table\"}]},\"layout\":{\"annotationdefaults\":{\"arrowcolor\":\"#2a3f5f\",\"arrowhead\":0,\"arrowwidth\":1},\"autotypenumbers\":\"strict\",\"coloraxis\":{\"colorbar\":{\"outlinewidth\":0,\"ticks\":\"\"}},\"colorscale\":{\"diverging\":[[0,\"#8e0152\"],[0.1,\"#c51b7d\"],[0.2,\"#de77ae\"],[0.3,\"#f1b6da\"],[0.4,\"#fde0ef\"],[0.5,\"#f7f7f7\"],[0.6,\"#e6f5d0\"],[0.7,\"#b8e186\"],[0.8,\"#7fbc41\"],[0.9,\"#4d9221\"],[1,\"#276419\"]],\"sequential\":[[0.0,\"#0d0887\"],[0.1111111111111111,\"#46039f\"],[0.2222222222222222,\"#7201a8\"],[0.3333333333333333,\"#9c179e\"],[0.4444444444444444,\"#bd3786\"],[0.5555555555555556,\"#d8576b\"],[0.6666666666666666,\"#ed7953\"],[0.7777777777777778,\"#fb9f3a\"],[0.8888888888888888,\"#fdca26\"],[1.0,\"#f0f921\"]],\"sequentialminus\":[[0.0,\"#0d0887\"],[0.1111111111111111,\"#46039f\"],[0.2222222222222222,\"#7201a8\"],[0.3333333333333333,\"#9c179e\"],[0.4444444444444444,\"#bd3786\"],[0.5555555555555556,\"#d8576b\"],[0.6666666666666666,\"#ed7953\"],[0.7777777777777778,\"#fb9f3a\"],[0.8888888888888888,\"#fdca26\"],[1.0,\"#f0f921\"]]},\"colorway\":[\"#636efa\",\"#EF553B\",\"#00cc96\",\"#ab63fa\",\"#FFA15A\",\"#19d3f3\",\"#FF6692\",\"#B6E880\",\"#FF97FF\",\"#FECB52\"],\"font\":{\"color\":\"#2a3f5f\"},\"geo\":{\"bgcolor\":\"white\",\"lakecolor\":\"white\",\"landcolor\":\"#E5ECF6\",\"showlakes\":true,\"showland\":true,\"subunitcolor\":\"white\"},\"hoverlabel\":{\"align\":\"left\"},\"hovermode\":\"closest\",\"mapbox\":{\"style\":\"light\"},\"paper_bgcolor\":\"white\",\"plot_bgcolor\":\"#E5ECF6\",\"polar\":{\"angularaxis\":{\"gridcolor\":\"white\",\"linecolor\":\"white\",\"ticks\":\"\"},\"bgcolor\":\"#E5ECF6\",\"radialaxis\":{\"gridcolor\":\"white\",\"linecolor\":\"white\",\"ticks\":\"\"}},\"scene\":{\"xaxis\":{\"backgroundcolor\":\"#E5ECF6\",\"gridcolor\":\"white\",\"gridwidth\":2,\"linecolor\":\"white\",\"showbackground\":true,\"ticks\":\"\",\"zerolinecolor\":\"white\"},\"yaxis\":{\"backgroundcolor\":\"#E5ECF6\",\"gridcolor\":\"white\",\"gridwidth\":2,\"linecolor\":\"white\",\"showbackground\":true,\"ticks\":\"\",\"zerolinecolor\":\"white\"},\"zaxis\":{\"backgroundcolor\":\"#E5ECF6\",\"gridcolor\":\"white\",\"gridwidth\":2,\"linecolor\":\"white\",\"showbackground\":true,\"ticks\":\"\",\"zerolinecolor\":\"white\"}},\"shapedefaults\":{\"line\":{\"color\":\"#2a3f5f\"}},\"ternary\":{\"aaxis\":{\"gridcolor\":\"white\",\"linecolor\":\"white\",\"ticks\":\"\"},\"baxis\":{\"gridcolor\":\"white\",\"linecolor\":\"white\",\"ticks\":\"\"},\"bgcolor\":\"#E5ECF6\",\"caxis\":{\"gridcolor\":\"white\",\"linecolor\":\"white\",\"ticks\":\"\"}},\"title\":{\"x\":0.05},\"xaxis\":{\"automargin\":true,\"gridcolor\":\"white\",\"linecolor\":\"white\",\"ticks\":\"\",\"title\":{\"standoff\":15},\"zerolinecolor\":\"white\",\"zerolinewidth\":2},\"yaxis\":{\"automargin\":true,\"gridcolor\":\"white\",\"linecolor\":\"white\",\"ticks\":\"\",\"title\":{\"standoff\":15},\"zerolinecolor\":\"white\",\"zerolinewidth\":2}}},\"title\":{\"text\":\"Total Cases Sold\"}},                        {\"responsive\": true}                    ).then(function(){\n",
       "                            \n",
       "var gd = document.getElementById('a06c24f7-2ab7-4d61-ba07-d24aaf62268f');\n",
       "var x = new MutationObserver(function (mutations, observer) {{\n",
       "        var display = window.getComputedStyle(gd).display;\n",
       "        if (!display || display === 'none') {{\n",
       "            console.log([gd, 'removed!']);\n",
       "            Plotly.purge(gd);\n",
       "            observer.disconnect();\n",
       "        }}\n",
       "}});\n",
       "\n",
       "// Listen for the removal of the full notebook cells\n",
       "var notebookContainer = gd.closest('#notebook-container');\n",
       "if (notebookContainer) {{\n",
       "    x.observe(notebookContainer, {childList: true});\n",
       "}}\n",
       "\n",
       "// Listen for the clearing of the current output cell\n",
       "var outputEl = gd.closest('.output');\n",
       "if (outputEl) {{\n",
       "    x.observe(outputEl, {childList: true});\n",
       "}}\n",
       "\n",
       "                        })                };                });            </script>        </div>"
      ]
     },
     "metadata": {},
     "output_type": "display_data"
    }
   ],
   "source": [
    "iplot(choromap)"
   ]
  },
  {
   "cell_type": "markdown",
   "id": "d1a3fb9a",
   "metadata": {},
   "source": [
    "#### The majority of p.o.'s originate from California, Nevada, and New York. Texas was an outlier due to Mexcor placing a single 110 case order in July 7, 2021"
   ]
  },
  {
   "cell_type": "markdown",
   "id": "4b143fe9",
   "metadata": {},
   "source": [
    "## Cases sold grouped by SKU"
   ]
  },
  {
   "cell_type": "code",
   "execution_count": 66,
   "id": "29b83c44",
   "metadata": {},
   "outputs": [],
   "source": [
    "bitter_only = df.drop(['total cases','STUSPS','po date','customer','po number'],axis=1)"
   ]
  },
  {
   "cell_type": "code",
   "execution_count": 68,
   "id": "fada3a06",
   "metadata": {},
   "outputs": [],
   "source": [
    "bitter_sum = bitter_only.sum(numeric_only=True)"
   ]
  },
  {
   "cell_type": "code",
   "execution_count": 89,
   "id": "5050e8ae",
   "metadata": {},
   "outputs": [
    {
     "data": {
      "text/plain": [
       "Text(0, 0.5, 'Cases')"
      ]
     },
     "execution_count": 89,
     "metadata": {},
     "output_type": "execute_result"
    },
    {
     "data": {
      "image/png": "[encoded data removed]",
      "text/plain": [
       "<Figure size 432x288 with 1 Axes>"
      ]
     },
     "metadata": {
      "needs_background": "light"
     },
     "output_type": "display_data"
    }
   ],
   "source": [
    "bitter_sum.sort_values(ascending=False).plot(title='Cases Sold by SKU',color='orange',kind='bar').grid(axis='y')\n",
    "plt.xlabel(\"SKU's\")\n",
    "plt.ylabel('Cases')"
   ]
  },
  {
   "cell_type": "markdown",
   "id": "96c36436",
   "metadata": {},
   "source": [
    "#### Tres Amigos continues to be the best seller."
   ]
  },
  {
   "cell_type": "markdown",
   "id": "9970b876",
   "metadata": {},
   "source": [
    "## Sales grouped by months"
   ]
  },
  {
   "cell_type": "code",
   "execution_count": 95,
   "id": "26a4a383",
   "metadata": {},
   "outputs": [],
   "source": [
    "df['po date'] = pd.to_datetime(df['po date'], dayfirst=False)"
   ]
  },
  {
   "cell_type": "code",
   "execution_count": 96,
   "id": "f300278f",
   "metadata": {},
   "outputs": [],
   "source": [
    "df['month'] = df['po date'].dt.month"
   ]
  },
  {
   "cell_type": "code",
   "execution_count": 104,
   "id": "3fc5f837",
   "metadata": {},
   "outputs": [],
   "source": [
    "by_month = df.groupby('month',as_index=False).sum()"
   ]
  },
  {
   "cell_type": "code",
   "execution_count": 105,
   "id": "97b79bd8",
   "metadata": {},
   "outputs": [
    {
     "data": {
      "text/html": [
       "<div>\n",
       "<style scoped>\n",
       "    .dataframe tbody tr th:only-of-type {\n",
       "        vertical-align: middle;\n",
       "    }\n",
       "\n",
       "    .dataframe tbody tr th {\n",
       "        vertical-align: top;\n",
       "    }\n",
       "\n",
       "    .dataframe thead th {\n",
       "        text-align: right;\n",
       "    }\n",
       "</style>\n",
       "<table border=\"1\" class=\"dataframe\">\n",
       "  <thead>\n",
       "    <tr style=\"text-align: right;\">\n",
       "      <th></th>\n",
       "      <th>month</th>\n",
       "      <th>total cases</th>\n",
       "      <th>aromatic bourbon</th>\n",
       "      <th>cardamom</th>\n",
       "      <th>cassia</th>\n",
       "      <th>clove</th>\n",
       "      <th>ginger</th>\n",
       "      <th>lemon pepper</th>\n",
       "      <th>sassafras</th>\n",
       "      <th>szechuan</th>\n",
       "      <th>tres amigos</th>\n",
       "      <th>gracia mole</th>\n",
       "      <th>tropical tiki</th>\n",
       "    </tr>\n",
       "  </thead>\n",
       "  <tbody>\n",
       "    <tr>\n",
       "      <th>0</th>\n",
       "      <td>1</td>\n",
       "      <td>30</td>\n",
       "      <td>4.0</td>\n",
       "      <td>1.0</td>\n",
       "      <td>1.0</td>\n",
       "      <td>1.0</td>\n",
       "      <td>2.0</td>\n",
       "      <td>2.0</td>\n",
       "      <td>8.0</td>\n",
       "      <td>0.0</td>\n",
       "      <td>11.0</td>\n",
       "      <td>0.0</td>\n",
       "      <td>0.0</td>\n",
       "    </tr>\n",
       "    <tr>\n",
       "      <th>1</th>\n",
       "      <td>2</td>\n",
       "      <td>46</td>\n",
       "      <td>18.0</td>\n",
       "      <td>7.0</td>\n",
       "      <td>2.0</td>\n",
       "      <td>3.0</td>\n",
       "      <td>1.0</td>\n",
       "      <td>0.0</td>\n",
       "      <td>0.0</td>\n",
       "      <td>0.0</td>\n",
       "      <td>10.0</td>\n",
       "      <td>3.0</td>\n",
       "      <td>2.0</td>\n",
       "    </tr>\n",
       "    <tr>\n",
       "      <th>2</th>\n",
       "      <td>3</td>\n",
       "      <td>38</td>\n",
       "      <td>8.0</td>\n",
       "      <td>8.0</td>\n",
       "      <td>2.0</td>\n",
       "      <td>4.0</td>\n",
       "      <td>7.0</td>\n",
       "      <td>0.0</td>\n",
       "      <td>1.0</td>\n",
       "      <td>1.0</td>\n",
       "      <td>6.0</td>\n",
       "      <td>1.0</td>\n",
       "      <td>0.0</td>\n",
       "    </tr>\n",
       "    <tr>\n",
       "      <th>3</th>\n",
       "      <td>4</td>\n",
       "      <td>49</td>\n",
       "      <td>5.0</td>\n",
       "      <td>7.0</td>\n",
       "      <td>5.0</td>\n",
       "      <td>4.0</td>\n",
       "      <td>3.0</td>\n",
       "      <td>0.0</td>\n",
       "      <td>14.0</td>\n",
       "      <td>0.0</td>\n",
       "      <td>11.0</td>\n",
       "      <td>0.0</td>\n",
       "      <td>0.0</td>\n",
       "    </tr>\n",
       "    <tr>\n",
       "      <th>4</th>\n",
       "      <td>5</td>\n",
       "      <td>42</td>\n",
       "      <td>10.0</td>\n",
       "      <td>5.0</td>\n",
       "      <td>4.0</td>\n",
       "      <td>1.0</td>\n",
       "      <td>9.0</td>\n",
       "      <td>0.0</td>\n",
       "      <td>1.0</td>\n",
       "      <td>0.0</td>\n",
       "      <td>12.0</td>\n",
       "      <td>0.0</td>\n",
       "      <td>0.0</td>\n",
       "    </tr>\n",
       "    <tr>\n",
       "      <th>5</th>\n",
       "      <td>6</td>\n",
       "      <td>37</td>\n",
       "      <td>4.0</td>\n",
       "      <td>2.0</td>\n",
       "      <td>1.0</td>\n",
       "      <td>0.0</td>\n",
       "      <td>0.0</td>\n",
       "      <td>0.0</td>\n",
       "      <td>3.0</td>\n",
       "      <td>2.0</td>\n",
       "      <td>25.0</td>\n",
       "      <td>0.0</td>\n",
       "      <td>0.0</td>\n",
       "    </tr>\n",
       "    <tr>\n",
       "      <th>6</th>\n",
       "      <td>7</td>\n",
       "      <td>221</td>\n",
       "      <td>27.0</td>\n",
       "      <td>15.0</td>\n",
       "      <td>16.0</td>\n",
       "      <td>11.0</td>\n",
       "      <td>20.0</td>\n",
       "      <td>13.0</td>\n",
       "      <td>21.0</td>\n",
       "      <td>12.0</td>\n",
       "      <td>50.0</td>\n",
       "      <td>19.0</td>\n",
       "      <td>20.0</td>\n",
       "    </tr>\n",
       "    <tr>\n",
       "      <th>7</th>\n",
       "      <td>8</td>\n",
       "      <td>63</td>\n",
       "      <td>8.0</td>\n",
       "      <td>8.0</td>\n",
       "      <td>3.0</td>\n",
       "      <td>2.0</td>\n",
       "      <td>3.0</td>\n",
       "      <td>1.0</td>\n",
       "      <td>4.0</td>\n",
       "      <td>2.0</td>\n",
       "      <td>32.0</td>\n",
       "      <td>0.0</td>\n",
       "      <td>0.0</td>\n",
       "    </tr>\n",
       "    <tr>\n",
       "      <th>8</th>\n",
       "      <td>9</td>\n",
       "      <td>38</td>\n",
       "      <td>0.0</td>\n",
       "      <td>1.0</td>\n",
       "      <td>5.0</td>\n",
       "      <td>1.0</td>\n",
       "      <td>11.0</td>\n",
       "      <td>0.0</td>\n",
       "      <td>7.0</td>\n",
       "      <td>0.0</td>\n",
       "      <td>9.0</td>\n",
       "      <td>4.0</td>\n",
       "      <td>0.0</td>\n",
       "    </tr>\n",
       "    <tr>\n",
       "      <th>9</th>\n",
       "      <td>10</td>\n",
       "      <td>78</td>\n",
       "      <td>6.0</td>\n",
       "      <td>9.0</td>\n",
       "      <td>4.0</td>\n",
       "      <td>3.0</td>\n",
       "      <td>2.0</td>\n",
       "      <td>0.0</td>\n",
       "      <td>7.0</td>\n",
       "      <td>5.0</td>\n",
       "      <td>31.0</td>\n",
       "      <td>8.0</td>\n",
       "      <td>4.0</td>\n",
       "    </tr>\n",
       "    <tr>\n",
       "      <th>10</th>\n",
       "      <td>11</td>\n",
       "      <td>42</td>\n",
       "      <td>4.0</td>\n",
       "      <td>9.0</td>\n",
       "      <td>1.0</td>\n",
       "      <td>0.0</td>\n",
       "      <td>1.0</td>\n",
       "      <td>0.0</td>\n",
       "      <td>9.0</td>\n",
       "      <td>2.0</td>\n",
       "      <td>12.0</td>\n",
       "      <td>0.0</td>\n",
       "      <td>4.0</td>\n",
       "    </tr>\n",
       "    <tr>\n",
       "      <th>11</th>\n",
       "      <td>12</td>\n",
       "      <td>122</td>\n",
       "      <td>18.0</td>\n",
       "      <td>7.0</td>\n",
       "      <td>3.0</td>\n",
       "      <td>19.0</td>\n",
       "      <td>27.0</td>\n",
       "      <td>1.0</td>\n",
       "      <td>6.0</td>\n",
       "      <td>0.0</td>\n",
       "      <td>25.0</td>\n",
       "      <td>14.0</td>\n",
       "      <td>2.0</td>\n",
       "    </tr>\n",
       "  </tbody>\n",
       "</table>\n",
       "</div>"
      ],
      "text/plain": [
       "    month  total cases  aromatic bourbon  cardamom  cassia  clove  ginger  \\\n",
       "0       1           30               4.0       1.0     1.0    1.0     2.0   \n",
       "1       2           46              18.0       7.0     2.0    3.0     1.0   \n",
       "2       3           38               8.0       8.0     2.0    4.0     7.0   \n",
       "3       4           49               5.0       7.0     5.0    4.0     3.0   \n",
       "4       5           42              10.0       5.0     4.0    1.0     9.0   \n",
       "5       6           37               4.0       2.0     1.0    0.0     0.0   \n",
       "6       7          221              27.0      15.0    16.0   11.0    20.0   \n",
       "7       8           63               8.0       8.0     3.0    2.0     3.0   \n",
       "8       9           38               0.0       1.0     5.0    1.0    11.0   \n",
       "9      10           78               6.0       9.0     4.0    3.0     2.0   \n",
       "10     11           42               4.0       9.0     1.0    0.0     1.0   \n",
       "11     12          122              18.0       7.0     3.0   19.0    27.0   \n",
       "\n",
       "    lemon pepper  sassafras  szechuan  tres amigos  gracia mole  tropical tiki  \n",
       "0            2.0        8.0       0.0         11.0          0.0            0.0  \n",
       "1            0.0        0.0       0.0         10.0          3.0            2.0  \n",
       "2            0.0        1.0       1.0          6.0          1.0            0.0  \n",
       "3            0.0       14.0       0.0         11.0          0.0            0.0  \n",
       "4            0.0        1.0       0.0         12.0          0.0            0.0  \n",
       "5            0.0        3.0       2.0         25.0          0.0            0.0  \n",
       "6           13.0       21.0      12.0         50.0         19.0           20.0  \n",
       "7            1.0        4.0       2.0         32.0          0.0            0.0  \n",
       "8            0.0        7.0       0.0          9.0          4.0            0.0  \n",
       "9            0.0        7.0       5.0         31.0          8.0            4.0  \n",
       "10           0.0        9.0       2.0         12.0          0.0            4.0  \n",
       "11           1.0        6.0       0.0         25.0         14.0            2.0  "
      ]
     },
     "execution_count": 105,
     "metadata": {},
     "output_type": "execute_result"
    }
   ],
   "source": [
    "by_month"
   ]
  },
  {
   "cell_type": "code",
   "execution_count": 135,
   "id": "af030cda",
   "metadata": {
    "scrolled": false
   },
   "outputs": [
    {
     "data": {
      "text/plain": [
       "Text(0.5, 1.0, 'Sales by Month')"
      ]
     },
     "execution_count": 135,
     "metadata": {},
     "output_type": "execute_result"
    },
    {
     "data": {
      "image/png": "[encoded data removed]",
      "text/plain": [
       "<Figure size 720x432 with 1 Axes>"
      ]
     },
     "metadata": {},
     "output_type": "display_data"
    }
   ],
   "source": [
    "sns.set_style('whitegrid')\n",
    "\n",
    "plt.figure(figsize=(10,6))\n",
    "plt.xticks(range(1,13))\n",
    "\n",
    "sns.lineplot(x='month',y='total cases',marker='o',color='navy',data=by_month).set_title('Sales by Month')"
   ]
  },
  {
   "cell_type": "markdown",
   "id": "9ad14a02",
   "metadata": {},
   "source": [
    "#### sales has a slight upward trend through the year with the month of July having a significant increase of sales. Mexcor(TX) has also skewed the data upward for that month."
   ]
  },
  {
   "cell_type": "markdown",
   "id": "19af76f9",
   "metadata": {},
   "source": [
    "#### Removing the one off p.o. by mexcor(TX) "
   ]
  },
  {
   "cell_type": "code",
   "execution_count": 145,
   "id": "1393f3d4",
   "metadata": {},
   "outputs": [],
   "source": [
    "i = df[df['STUSPS']=='TX'].index"
   ]
  },
  {
   "cell_type": "code",
   "execution_count": 148,
   "id": "a4ca28ee",
   "metadata": {},
   "outputs": [],
   "source": [
    "no_tx = df.drop(i)"
   ]
  },
  {
   "cell_type": "code",
   "execution_count": 152,
   "id": "0191fb0d",
   "metadata": {},
   "outputs": [],
   "source": [
    "no_tx['po date'] = pd.to_datetime(no_tx['po date'], dayfirst=False)\n",
    "no_tx['month'] = no_tx['po date'].dt.month\n",
    "by_month_no_tx = no_tx.groupby('month',as_index=False).sum()"
   ]
  },
  {
   "cell_type": "code",
   "execution_count": 153,
   "id": "b82bfe39",
   "metadata": {},
   "outputs": [
    {
     "data": {
      "text/html": [
       "<div>\n",
       "<style scoped>\n",
       "    .dataframe tbody tr th:only-of-type {\n",
       "        vertical-align: middle;\n",
       "    }\n",
       "\n",
       "    .dataframe tbody tr th {\n",
       "        vertical-align: top;\n",
       "    }\n",
       "\n",
       "    .dataframe thead th {\n",
       "        text-align: right;\n",
       "    }\n",
       "</style>\n",
       "<table border=\"1\" class=\"dataframe\">\n",
       "  <thead>\n",
       "    <tr style=\"text-align: right;\">\n",
       "      <th></th>\n",
       "      <th>month</th>\n",
       "      <th>total cases</th>\n",
       "      <th>aromatic bourbon</th>\n",
       "      <th>cardamom</th>\n",
       "      <th>cassia</th>\n",
       "      <th>clove</th>\n",
       "      <th>ginger</th>\n",
       "      <th>lemon pepper</th>\n",
       "      <th>sassafras</th>\n",
       "      <th>szechuan</th>\n",
       "      <th>tres amigos</th>\n",
       "      <th>gracia mole</th>\n",
       "      <th>tropical tiki</th>\n",
       "    </tr>\n",
       "  </thead>\n",
       "  <tbody>\n",
       "    <tr>\n",
       "      <th>0</th>\n",
       "      <td>1</td>\n",
       "      <td>30</td>\n",
       "      <td>4.0</td>\n",
       "      <td>1.0</td>\n",
       "      <td>1.0</td>\n",
       "      <td>1.0</td>\n",
       "      <td>2.0</td>\n",
       "      <td>2.0</td>\n",
       "      <td>8.0</td>\n",
       "      <td>0.0</td>\n",
       "      <td>11.0</td>\n",
       "      <td>0.0</td>\n",
       "      <td>0.0</td>\n",
       "    </tr>\n",
       "    <tr>\n",
       "      <th>1</th>\n",
       "      <td>2</td>\n",
       "      <td>46</td>\n",
       "      <td>18.0</td>\n",
       "      <td>7.0</td>\n",
       "      <td>2.0</td>\n",
       "      <td>3.0</td>\n",
       "      <td>1.0</td>\n",
       "      <td>0.0</td>\n",
       "      <td>0.0</td>\n",
       "      <td>0.0</td>\n",
       "      <td>10.0</td>\n",
       "      <td>3.0</td>\n",
       "      <td>2.0</td>\n",
       "    </tr>\n",
       "    <tr>\n",
       "      <th>2</th>\n",
       "      <td>3</td>\n",
       "      <td>38</td>\n",
       "      <td>8.0</td>\n",
       "      <td>8.0</td>\n",
       "      <td>2.0</td>\n",
       "      <td>4.0</td>\n",
       "      <td>7.0</td>\n",
       "      <td>0.0</td>\n",
       "      <td>1.0</td>\n",
       "      <td>1.0</td>\n",
       "      <td>6.0</td>\n",
       "      <td>1.0</td>\n",
       "      <td>0.0</td>\n",
       "    </tr>\n",
       "    <tr>\n",
       "      <th>3</th>\n",
       "      <td>4</td>\n",
       "      <td>49</td>\n",
       "      <td>5.0</td>\n",
       "      <td>7.0</td>\n",
       "      <td>5.0</td>\n",
       "      <td>4.0</td>\n",
       "      <td>3.0</td>\n",
       "      <td>0.0</td>\n",
       "      <td>14.0</td>\n",
       "      <td>0.0</td>\n",
       "      <td>11.0</td>\n",
       "      <td>0.0</td>\n",
       "      <td>0.0</td>\n",
       "    </tr>\n",
       "    <tr>\n",
       "      <th>4</th>\n",
       "      <td>5</td>\n",
       "      <td>42</td>\n",
       "      <td>10.0</td>\n",
       "      <td>5.0</td>\n",
       "      <td>4.0</td>\n",
       "      <td>1.0</td>\n",
       "      <td>9.0</td>\n",
       "      <td>0.0</td>\n",
       "      <td>1.0</td>\n",
       "      <td>0.0</td>\n",
       "      <td>12.0</td>\n",
       "      <td>0.0</td>\n",
       "      <td>0.0</td>\n",
       "    </tr>\n",
       "    <tr>\n",
       "      <th>5</th>\n",
       "      <td>6</td>\n",
       "      <td>37</td>\n",
       "      <td>4.0</td>\n",
       "      <td>2.0</td>\n",
       "      <td>1.0</td>\n",
       "      <td>0.0</td>\n",
       "      <td>0.0</td>\n",
       "      <td>0.0</td>\n",
       "      <td>3.0</td>\n",
       "      <td>2.0</td>\n",
       "      <td>25.0</td>\n",
       "      <td>0.0</td>\n",
       "      <td>0.0</td>\n",
       "    </tr>\n",
       "    <tr>\n",
       "      <th>6</th>\n",
       "      <td>7</td>\n",
       "      <td>111</td>\n",
       "      <td>17.0</td>\n",
       "      <td>5.0</td>\n",
       "      <td>6.0</td>\n",
       "      <td>1.0</td>\n",
       "      <td>10.0</td>\n",
       "      <td>3.0</td>\n",
       "      <td>11.0</td>\n",
       "      <td>2.0</td>\n",
       "      <td>40.0</td>\n",
       "      <td>9.0</td>\n",
       "      <td>10.0</td>\n",
       "    </tr>\n",
       "    <tr>\n",
       "      <th>7</th>\n",
       "      <td>8</td>\n",
       "      <td>63</td>\n",
       "      <td>8.0</td>\n",
       "      <td>8.0</td>\n",
       "      <td>3.0</td>\n",
       "      <td>2.0</td>\n",
       "      <td>3.0</td>\n",
       "      <td>1.0</td>\n",
       "      <td>4.0</td>\n",
       "      <td>2.0</td>\n",
       "      <td>32.0</td>\n",
       "      <td>0.0</td>\n",
       "      <td>0.0</td>\n",
       "    </tr>\n",
       "    <tr>\n",
       "      <th>8</th>\n",
       "      <td>9</td>\n",
       "      <td>38</td>\n",
       "      <td>0.0</td>\n",
       "      <td>1.0</td>\n",
       "      <td>5.0</td>\n",
       "      <td>1.0</td>\n",
       "      <td>11.0</td>\n",
       "      <td>0.0</td>\n",
       "      <td>7.0</td>\n",
       "      <td>0.0</td>\n",
       "      <td>9.0</td>\n",
       "      <td>4.0</td>\n",
       "      <td>0.0</td>\n",
       "    </tr>\n",
       "    <tr>\n",
       "      <th>9</th>\n",
       "      <td>10</td>\n",
       "      <td>78</td>\n",
       "      <td>6.0</td>\n",
       "      <td>9.0</td>\n",
       "      <td>4.0</td>\n",
       "      <td>3.0</td>\n",
       "      <td>2.0</td>\n",
       "      <td>0.0</td>\n",
       "      <td>7.0</td>\n",
       "      <td>5.0</td>\n",
       "      <td>31.0</td>\n",
       "      <td>8.0</td>\n",
       "      <td>4.0</td>\n",
       "    </tr>\n",
       "    <tr>\n",
       "      <th>10</th>\n",
       "      <td>11</td>\n",
       "      <td>42</td>\n",
       "      <td>4.0</td>\n",
       "      <td>9.0</td>\n",
       "      <td>1.0</td>\n",
       "      <td>0.0</td>\n",
       "      <td>1.0</td>\n",
       "      <td>0.0</td>\n",
       "      <td>9.0</td>\n",
       "      <td>2.0</td>\n",
       "      <td>12.0</td>\n",
       "      <td>0.0</td>\n",
       "      <td>4.0</td>\n",
       "    </tr>\n",
       "    <tr>\n",
       "      <th>11</th>\n",
       "      <td>12</td>\n",
       "      <td>122</td>\n",
       "      <td>18.0</td>\n",
       "      <td>7.0</td>\n",
       "      <td>3.0</td>\n",
       "      <td>19.0</td>\n",
       "      <td>27.0</td>\n",
       "      <td>1.0</td>\n",
       "      <td>6.0</td>\n",
       "      <td>0.0</td>\n",
       "      <td>25.0</td>\n",
       "      <td>14.0</td>\n",
       "      <td>2.0</td>\n",
       "    </tr>\n",
       "  </tbody>\n",
       "</table>\n",
       "</div>"
      ],
      "text/plain": [
       "    month  total cases  aromatic bourbon  cardamom  cassia  clove  ginger  \\\n",
       "0       1           30               4.0       1.0     1.0    1.0     2.0   \n",
       "1       2           46              18.0       7.0     2.0    3.0     1.0   \n",
       "2       3           38               8.0       8.0     2.0    4.0     7.0   \n",
       "3       4           49               5.0       7.0     5.0    4.0     3.0   \n",
       "4       5           42              10.0       5.0     4.0    1.0     9.0   \n",
       "5       6           37               4.0       2.0     1.0    0.0     0.0   \n",
       "6       7          111              17.0       5.0     6.0    1.0    10.0   \n",
       "7       8           63               8.0       8.0     3.0    2.0     3.0   \n",
       "8       9           38               0.0       1.0     5.0    1.0    11.0   \n",
       "9      10           78               6.0       9.0     4.0    3.0     2.0   \n",
       "10     11           42               4.0       9.0     1.0    0.0     1.0   \n",
       "11     12          122              18.0       7.0     3.0   19.0    27.0   \n",
       "\n",
       "    lemon pepper  sassafras  szechuan  tres amigos  gracia mole  tropical tiki  \n",
       "0            2.0        8.0       0.0         11.0          0.0            0.0  \n",
       "1            0.0        0.0       0.0         10.0          3.0            2.0  \n",
       "2            0.0        1.0       1.0          6.0          1.0            0.0  \n",
       "3            0.0       14.0       0.0         11.0          0.0            0.0  \n",
       "4            0.0        1.0       0.0         12.0          0.0            0.0  \n",
       "5            0.0        3.0       2.0         25.0          0.0            0.0  \n",
       "6            3.0       11.0       2.0         40.0          9.0           10.0  \n",
       "7            1.0        4.0       2.0         32.0          0.0            0.0  \n",
       "8            0.0        7.0       0.0          9.0          4.0            0.0  \n",
       "9            0.0        7.0       5.0         31.0          8.0            4.0  \n",
       "10           0.0        9.0       2.0         12.0          0.0            4.0  \n",
       "11           1.0        6.0       0.0         25.0         14.0            2.0  "
      ]
     },
     "execution_count": 153,
     "metadata": {},
     "output_type": "execute_result"
    }
   ],
   "source": [
    "by_month_no_tx"
   ]
  },
  {
   "cell_type": "code",
   "execution_count": 155,
   "id": "aada417c",
   "metadata": {},
   "outputs": [
    {
     "data": {
      "text/plain": [
       "Text(0.5, 1.0, 'Sales by Month')"
      ]
     },
     "execution_count": 155,
     "metadata": {},
     "output_type": "execute_result"
    },
    {
     "data": {
      "image/png": "[encoded data removed]",
      "text/plain": [
       "<Figure size 720x432 with 1 Axes>"
      ]
     },
     "metadata": {},
     "output_type": "display_data"
    }
   ],
   "source": [
    "plt.figure(figsize=(10,6))\n",
    "plt.xticks(range(1,13))\n",
    "\n",
    "sns.lineplot(x='month',y='total cases',marker='o',color='navy',data=by_month_no_tx).set_title('Sales by Month')"
   ]
  },
  {
   "cell_type": "markdown",
   "id": "05e22970",
   "metadata": {},
   "source": [
    "#### With the Mexcor(TX) p.o. removed July still has a 200% increase over June. The months of August, October, and especially December did well in total cases sold."
   ]
  },
  {
   "cell_type": "code",
   "execution_count": null,
   "id": "627e3995",
   "metadata": {},
   "outputs": [],
   "source": []
  }
 ],
 "metadata": {
  "kernelspec": {
   "display_name": "Python 3 (ipykernel)",
   "language": "python",
   "name": "python3"
  },
  "language_info": {
   "codemirror_mode": {
    "name": "ipython",
    "version": 3
   },
   "file_extension": ".py",
   "mimetype": "text/x-python",
   "name": "python",
   "nbconvert_exporter": "python",
   "pygments_lexer": "ipython3",
   "version": "3.9.12"
  }
 },
 "nbformat": 4,
 "nbformat_minor": 5
}
